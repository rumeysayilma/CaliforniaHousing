{
 "cells": [
  {
   "cell_type": "code",
   "execution_count": 1,
   "id": "quarterly-thing",
   "metadata": {},
   "outputs": [],
   "source": [
    "import pandas as pd\n",
    "import numpy as np\n",
    "import matplotlib.pyplot as plt\n",
    "import seaborn as sns\n",
    "import csv\n",
    "import tensorflow as tf\n",
    "from sklearn.model_selection import train_test_split\n",
    "from sklearn.preprocessing import MinMaxScaler\n",
    "from tensorflow.keras.models import Sequential\n",
    "from tensorflow.keras.layers import Dense\n",
    "from tensorflow.keras.optimizers import Adam\n",
    "from tensorflow.keras.layers import Dropout\n",
    "from tensorflow.keras.callbacks import EarlyStopping\n",
    "from sklearn.metrics import accuracy_score\n",
    "\n",
    "    \n"
   ]
  },
  {
   "cell_type": "code",
   "execution_count": 2,
   "id": "decreased-pottery",
   "metadata": {},
   "outputs": [
    {
     "data": {
      "text/html": [
       "<div>\n",
       "<style scoped>\n",
       "    .dataframe tbody tr th:only-of-type {\n",
       "        vertical-align: middle;\n",
       "    }\n",
       "\n",
       "    .dataframe tbody tr th {\n",
       "        vertical-align: top;\n",
       "    }\n",
       "\n",
       "    .dataframe thead th {\n",
       "        text-align: right;\n",
       "    }\n",
       "</style>\n",
       "<table border=\"1\" class=\"dataframe\">\n",
       "  <thead>\n",
       "    <tr style=\"text-align: right;\">\n",
       "      <th></th>\n",
       "      <th>longitude</th>\n",
       "      <th>latitude</th>\n",
       "      <th>housing_median_age</th>\n",
       "      <th>total_rooms</th>\n",
       "      <th>total_bedrooms</th>\n",
       "      <th>population</th>\n",
       "      <th>households</th>\n",
       "      <th>median_income</th>\n",
       "      <th>median_house_value</th>\n",
       "      <th>ocean_proximity</th>\n",
       "    </tr>\n",
       "  </thead>\n",
       "  <tbody>\n",
       "    <tr>\n",
       "      <th>0</th>\n",
       "      <td>-122.23</td>\n",
       "      <td>37.88</td>\n",
       "      <td>41.0</td>\n",
       "      <td>880.0</td>\n",
       "      <td>129.0</td>\n",
       "      <td>322.0</td>\n",
       "      <td>126.0</td>\n",
       "      <td>8.3252</td>\n",
       "      <td>452600.0</td>\n",
       "      <td>NEAR BAY</td>\n",
       "    </tr>\n",
       "    <tr>\n",
       "      <th>1</th>\n",
       "      <td>-122.22</td>\n",
       "      <td>37.86</td>\n",
       "      <td>21.0</td>\n",
       "      <td>7099.0</td>\n",
       "      <td>1106.0</td>\n",
       "      <td>2401.0</td>\n",
       "      <td>1138.0</td>\n",
       "      <td>8.3014</td>\n",
       "      <td>358500.0</td>\n",
       "      <td>NEAR BAY</td>\n",
       "    </tr>\n",
       "    <tr>\n",
       "      <th>2</th>\n",
       "      <td>-122.24</td>\n",
       "      <td>37.85</td>\n",
       "      <td>52.0</td>\n",
       "      <td>1467.0</td>\n",
       "      <td>190.0</td>\n",
       "      <td>496.0</td>\n",
       "      <td>177.0</td>\n",
       "      <td>7.2574</td>\n",
       "      <td>352100.0</td>\n",
       "      <td>NEAR BAY</td>\n",
       "    </tr>\n",
       "    <tr>\n",
       "      <th>3</th>\n",
       "      <td>-122.25</td>\n",
       "      <td>37.85</td>\n",
       "      <td>52.0</td>\n",
       "      <td>1274.0</td>\n",
       "      <td>235.0</td>\n",
       "      <td>558.0</td>\n",
       "      <td>219.0</td>\n",
       "      <td>5.6431</td>\n",
       "      <td>341300.0</td>\n",
       "      <td>NEAR BAY</td>\n",
       "    </tr>\n",
       "    <tr>\n",
       "      <th>4</th>\n",
       "      <td>-122.25</td>\n",
       "      <td>37.85</td>\n",
       "      <td>52.0</td>\n",
       "      <td>1627.0</td>\n",
       "      <td>280.0</td>\n",
       "      <td>565.0</td>\n",
       "      <td>259.0</td>\n",
       "      <td>3.8462</td>\n",
       "      <td>342200.0</td>\n",
       "      <td>NEAR BAY</td>\n",
       "    </tr>\n",
       "  </tbody>\n",
       "</table>\n",
       "</div>"
      ],
      "text/plain": [
       "   longitude  latitude  housing_median_age  total_rooms  total_bedrooms  \\\n",
       "0    -122.23     37.88                41.0        880.0           129.0   \n",
       "1    -122.22     37.86                21.0       7099.0          1106.0   \n",
       "2    -122.24     37.85                52.0       1467.0           190.0   \n",
       "3    -122.25     37.85                52.0       1274.0           235.0   \n",
       "4    -122.25     37.85                52.0       1627.0           280.0   \n",
       "\n",
       "   population  households  median_income  median_house_value ocean_proximity  \n",
       "0       322.0       126.0         8.3252            452600.0        NEAR BAY  \n",
       "1      2401.0      1138.0         8.3014            358500.0        NEAR BAY  \n",
       "2       496.0       177.0         7.2574            352100.0        NEAR BAY  \n",
       "3       558.0       219.0         5.6431            341300.0        NEAR BAY  \n",
       "4       565.0       259.0         3.8462            342200.0        NEAR BAY  "
      ]
     },
     "execution_count": 2,
     "metadata": {},
     "output_type": "execute_result"
    }
   ],
   "source": [
    "df=pd.read_csv('housing.csv')\n",
    "df.head()\n",
    "#datayı anlamak için ilk 5 data görüntülenir."
   ]
  },
  {
   "cell_type": "code",
   "execution_count": 3,
   "id": "corrected-milan",
   "metadata": {},
   "outputs": [
    {
     "name": "stdout",
     "output_type": "stream",
     "text": [
      "<class 'pandas.core.frame.DataFrame'>\n",
      "RangeIndex: 20640 entries, 0 to 20639\n",
      "Data columns (total 10 columns):\n",
      " #   Column              Non-Null Count  Dtype  \n",
      "---  ------              --------------  -----  \n",
      " 0   longitude           20640 non-null  float64\n",
      " 1   latitude            20640 non-null  float64\n",
      " 2   housing_median_age  20640 non-null  float64\n",
      " 3   total_rooms         20640 non-null  float64\n",
      " 4   total_bedrooms      20433 non-null  float64\n",
      " 5   population          20640 non-null  float64\n",
      " 6   households          20640 non-null  float64\n",
      " 7   median_income       20640 non-null  float64\n",
      " 8   median_house_value  20640 non-null  float64\n",
      " 9   ocean_proximity     20640 non-null  object \n",
      "dtypes: float64(9), object(1)\n",
      "memory usage: 1.6+ MB\n"
     ]
    }
   ],
   "source": [
    "df.info()\n",
    "#Verilerin sınıfları ve içi boş olmayan içerik sayısı görüntülenir."
   ]
  },
  {
   "cell_type": "code",
   "execution_count": 4,
   "id": "julian-maria",
   "metadata": {},
   "outputs": [
    {
     "data": {
      "text/plain": [
       "longitude               0\n",
       "latitude                0\n",
       "housing_median_age      0\n",
       "total_rooms             0\n",
       "total_bedrooms        207\n",
       "population              0\n",
       "households              0\n",
       "median_income           0\n",
       "median_house_value      0\n",
       "ocean_proximity         0\n",
       "dtype: int64"
      ]
     },
     "execution_count": 4,
     "metadata": {},
     "output_type": "execute_result"
    }
   ],
   "source": [
    "df.isnull().sum()\n",
    "#sınıftaki eleman sayısı boş olan veri sayısı görüntülenir."
   ]
  },
  {
   "cell_type": "code",
   "execution_count": 5,
   "id": "political-shaft",
   "metadata": {},
   "outputs": [
    {
     "data": {
      "text/plain": [
       "Index(['housing_median_age', 'total_rooms', 'total_bedrooms', 'population',\n",
       "       'households', 'median_income', 'median_house_value'],\n",
       "      dtype='object')"
      ]
     },
     "execution_count": 5,
     "metadata": {},
     "output_type": "execute_result"
    }
   ],
   "source": [
    "df.dropna(inplace=True)\n",
    "df=df.drop('latitude', axis=1)\n",
    "df=df.drop('ocean_proximity', axis=1)\n",
    "df=df.drop('longitude', axis=1)\n",
    "df.columns\n",
    "#okyanusa yakınlık parametresinin sayısal bir değeri olmadığından dolayı bu sınıf çıkarıldı"
   ]
  },
  {
   "cell_type": "code",
   "execution_count": 6,
   "id": "casual-princeton",
   "metadata": {},
   "outputs": [
    {
     "data": {
      "text/html": [
       "<div>\n",
       "<style scoped>\n",
       "    .dataframe tbody tr th:only-of-type {\n",
       "        vertical-align: middle;\n",
       "    }\n",
       "\n",
       "    .dataframe tbody tr th {\n",
       "        vertical-align: top;\n",
       "    }\n",
       "\n",
       "    .dataframe thead th {\n",
       "        text-align: right;\n",
       "    }\n",
       "</style>\n",
       "<table border=\"1\" class=\"dataframe\">\n",
       "  <thead>\n",
       "    <tr style=\"text-align: right;\">\n",
       "      <th></th>\n",
       "      <th>housing_median_age</th>\n",
       "      <th>total_rooms</th>\n",
       "      <th>total_bedrooms</th>\n",
       "      <th>population</th>\n",
       "      <th>households</th>\n",
       "      <th>median_income</th>\n",
       "      <th>median_house_value</th>\n",
       "    </tr>\n",
       "  </thead>\n",
       "  <tbody>\n",
       "    <tr>\n",
       "      <th>count</th>\n",
       "      <td>20433.000000</td>\n",
       "      <td>20433.000000</td>\n",
       "      <td>20433.000000</td>\n",
       "      <td>20433.000000</td>\n",
       "      <td>20433.000000</td>\n",
       "      <td>20433.000000</td>\n",
       "      <td>20433.000000</td>\n",
       "    </tr>\n",
       "    <tr>\n",
       "      <th>mean</th>\n",
       "      <td>28.633094</td>\n",
       "      <td>2636.504233</td>\n",
       "      <td>537.870553</td>\n",
       "      <td>1424.946949</td>\n",
       "      <td>499.433465</td>\n",
       "      <td>3.871162</td>\n",
       "      <td>206864.413155</td>\n",
       "    </tr>\n",
       "    <tr>\n",
       "      <th>std</th>\n",
       "      <td>12.591805</td>\n",
       "      <td>2185.269567</td>\n",
       "      <td>421.385070</td>\n",
       "      <td>1133.208490</td>\n",
       "      <td>382.299226</td>\n",
       "      <td>1.899291</td>\n",
       "      <td>115435.667099</td>\n",
       "    </tr>\n",
       "    <tr>\n",
       "      <th>min</th>\n",
       "      <td>1.000000</td>\n",
       "      <td>2.000000</td>\n",
       "      <td>1.000000</td>\n",
       "      <td>3.000000</td>\n",
       "      <td>1.000000</td>\n",
       "      <td>0.499900</td>\n",
       "      <td>14999.000000</td>\n",
       "    </tr>\n",
       "    <tr>\n",
       "      <th>25%</th>\n",
       "      <td>18.000000</td>\n",
       "      <td>1450.000000</td>\n",
       "      <td>296.000000</td>\n",
       "      <td>787.000000</td>\n",
       "      <td>280.000000</td>\n",
       "      <td>2.563700</td>\n",
       "      <td>119500.000000</td>\n",
       "    </tr>\n",
       "    <tr>\n",
       "      <th>50%</th>\n",
       "      <td>29.000000</td>\n",
       "      <td>2127.000000</td>\n",
       "      <td>435.000000</td>\n",
       "      <td>1166.000000</td>\n",
       "      <td>409.000000</td>\n",
       "      <td>3.536500</td>\n",
       "      <td>179700.000000</td>\n",
       "    </tr>\n",
       "    <tr>\n",
       "      <th>75%</th>\n",
       "      <td>37.000000</td>\n",
       "      <td>3143.000000</td>\n",
       "      <td>647.000000</td>\n",
       "      <td>1722.000000</td>\n",
       "      <td>604.000000</td>\n",
       "      <td>4.744000</td>\n",
       "      <td>264700.000000</td>\n",
       "    </tr>\n",
       "    <tr>\n",
       "      <th>max</th>\n",
       "      <td>52.000000</td>\n",
       "      <td>39320.000000</td>\n",
       "      <td>6445.000000</td>\n",
       "      <td>35682.000000</td>\n",
       "      <td>6082.000000</td>\n",
       "      <td>15.000100</td>\n",
       "      <td>500001.000000</td>\n",
       "    </tr>\n",
       "  </tbody>\n",
       "</table>\n",
       "</div>"
      ],
      "text/plain": [
       "       housing_median_age   total_rooms  total_bedrooms    population  \\\n",
       "count        20433.000000  20433.000000    20433.000000  20433.000000   \n",
       "mean            28.633094   2636.504233      537.870553   1424.946949   \n",
       "std             12.591805   2185.269567      421.385070   1133.208490   \n",
       "min              1.000000      2.000000        1.000000      3.000000   \n",
       "25%             18.000000   1450.000000      296.000000    787.000000   \n",
       "50%             29.000000   2127.000000      435.000000   1166.000000   \n",
       "75%             37.000000   3143.000000      647.000000   1722.000000   \n",
       "max             52.000000  39320.000000     6445.000000  35682.000000   \n",
       "\n",
       "         households  median_income  median_house_value  \n",
       "count  20433.000000   20433.000000        20433.000000  \n",
       "mean     499.433465       3.871162       206864.413155  \n",
       "std      382.299226       1.899291       115435.667099  \n",
       "min        1.000000       0.499900        14999.000000  \n",
       "25%      280.000000       2.563700       119500.000000  \n",
       "50%      409.000000       3.536500       179700.000000  \n",
       "75%      604.000000       4.744000       264700.000000  \n",
       "max     6082.000000      15.000100       500001.000000  "
      ]
     },
     "execution_count": 6,
     "metadata": {},
     "output_type": "execute_result"
    }
   ],
   "source": [
    "df.describe()\n",
    "#sınıfların istetiksel özellikleri görüntülenir."
   ]
  },
  {
   "cell_type": "code",
   "execution_count": 7,
   "id": "expensive-genre",
   "metadata": {},
   "outputs": [
    {
     "name": "stderr",
     "output_type": "stream",
     "text": [
      "C:\\Users\\rumeysa.yilmaz\\Anaconda3\\envs\\tf\\lib\\site-packages\\seaborn\\distributions.py:2557: FutureWarning: `distplot` is a deprecated function and will be removed in a future version. Please adapt your code to use either `displot` (a figure-level function with similar flexibility) or `histplot` (an axes-level function for histograms).\n",
      "  warnings.warn(msg, FutureWarning)\n"
     ]
    },
    {
     "data": {
      "text/plain": [
       "<AxesSubplot:xlabel='median_house_value', ylabel='Density'>"
      ]
     },
     "execution_count": 7,
     "metadata": {},
     "output_type": "execute_result"
    },
    {
     "data": {
      "image/png": "[encoded data removed]",
      "text/plain": [
       "<Figure size 576x288 with 1 Axes>"
      ]
     },
     "metadata": {
      "needs_background": "light"
     },
     "output_type": "display_data"
    }
   ],
   "source": [
    "plt.figure(figsize=(8,4))\n",
    "sns.distplot(df['median_house_value'])\n",
    "#fiyat-o fiyattaki ev sayısının yoğunlupu grafiği"
   ]
  },
  {
   "cell_type": "code",
   "execution_count": 8,
   "id": "multiple-fundamentals",
   "metadata": {},
   "outputs": [
    {
     "data": {
      "text/plain": [
       "\"plt.figure(figsize=(12,8))\\nsns.scatterplot(x='median_house_value',y='longitude',data=df)\\n#enlem-ev fiyatı görseli\""
      ]
     },
     "execution_count": 8,
     "metadata": {},
     "output_type": "execute_result"
    }
   ],
   "source": [
    "'''plt.figure(figsize=(12,8))\n",
    "sns.scatterplot(x='median_house_value',y='longitude',data=df)\n",
    "#enlem-ev fiyatı görseli'''"
   ]
  },
  {
   "cell_type": "code",
   "execution_count": 9,
   "id": "alien-competition",
   "metadata": {},
   "outputs": [
    {
     "data": {
      "text/plain": [
       "\"plt.figure(figsize=(12,8))\\nsns.scatterplot(x='median_house_value',y='latitude',data=df)\\n#boylam-ev fiyatı görseli\""
      ]
     },
     "execution_count": 9,
     "metadata": {},
     "output_type": "execute_result"
    }
   ],
   "source": [
    "'''plt.figure(figsize=(12,8))\n",
    "sns.scatterplot(x='median_house_value',y='latitude',data=df)\n",
    "#boylam-ev fiyatı görseli'''"
   ]
  },
  {
   "cell_type": "code",
   "execution_count": 10,
   "id": "strange-typing",
   "metadata": {},
   "outputs": [
    {
     "data": {
      "text/plain": [
       "\"plt.figure(figsize=(12,8))\\nsns.scatterplot(x='longitude',y='latitude',data=df,hue='median_house_value')\\n#koordinatlara göre ev fiyatlarının dağılımı renklendirilmiş grafik.\""
      ]
     },
     "execution_count": 10,
     "metadata": {},
     "output_type": "execute_result"
    }
   ],
   "source": [
    "'''plt.figure(figsize=(12,8))\n",
    "sns.scatterplot(x='longitude',y='latitude',data=df,hue='median_house_value')\n",
    "#koordinatlara göre ev fiyatlarının dağılımı renklendirilmiş grafik.'''"
   ]
  },
  {
   "cell_type": "code",
   "execution_count": 11,
   "id": "transsexual-violation",
   "metadata": {
    "scrolled": true
   },
   "outputs": [
    {
     "data": {
      "text/plain": [
       "'df.corr()\\nher sınıfın birbiri ile ilişkisi korelasyon üzerinden incelenmesi'"
      ]
     },
     "execution_count": 11,
     "metadata": {},
     "output_type": "execute_result"
    }
   ],
   "source": [
    "'''df.corr()\n",
    "her sınıfın birbiri ile ilişkisi korelasyon üzerinden incelenmesi'''"
   ]
  },
  {
   "cell_type": "code",
   "execution_count": 12,
   "id": "herbal-thesis",
   "metadata": {},
   "outputs": [
    {
     "data": {
      "text/plain": [
       "'plt.figure(figsize=(10,8))\\nsns.heatmap(df.corr(), annot=True)\\n#korelasyon ilişkisinin heatmapp ile görsellenmesi'"
      ]
     },
     "execution_count": 12,
     "metadata": {},
     "output_type": "execute_result"
    }
   ],
   "source": [
    "'''plt.figure(figsize=(10,8))\n",
    "sns.heatmap(df.corr(), annot=True)\n",
    "#korelasyon ilişkisinin heatmapp ile görsellenmesi'''"
   ]
  },
  {
   "cell_type": "code",
   "execution_count": 13,
   "id": "whole-partition",
   "metadata": {
    "scrolled": false
   },
   "outputs": [
    {
     "data": {
      "text/html": [
       "<div>\n",
       "<style scoped>\n",
       "    .dataframe tbody tr th:only-of-type {\n",
       "        vertical-align: middle;\n",
       "    }\n",
       "\n",
       "    .dataframe tbody tr th {\n",
       "        vertical-align: top;\n",
       "    }\n",
       "\n",
       "    .dataframe thead th {\n",
       "        text-align: right;\n",
       "    }\n",
       "</style>\n",
       "<table border=\"1\" class=\"dataframe\">\n",
       "  <thead>\n",
       "    <tr style=\"text-align: right;\">\n",
       "      <th></th>\n",
       "      <th>housing_median_age</th>\n",
       "      <th>total_rooms</th>\n",
       "      <th>total_bedrooms</th>\n",
       "      <th>population</th>\n",
       "      <th>households</th>\n",
       "      <th>median_income</th>\n",
       "      <th>median_house_value</th>\n",
       "      <th>bedrooms_per_room</th>\n",
       "      <th>population_per_household</th>\n",
       "      <th>rooms_per_household</th>\n",
       "    </tr>\n",
       "  </thead>\n",
       "  <tbody>\n",
       "    <tr>\n",
       "      <th>count</th>\n",
       "      <td>20433.000000</td>\n",
       "      <td>20433.000000</td>\n",
       "      <td>20433.000000</td>\n",
       "      <td>20433.000000</td>\n",
       "      <td>20433.000000</td>\n",
       "      <td>20433.000000</td>\n",
       "      <td>20433.000000</td>\n",
       "      <td>20433.000000</td>\n",
       "      <td>20433.000000</td>\n",
       "      <td>20433.000000</td>\n",
       "    </tr>\n",
       "    <tr>\n",
       "      <th>mean</th>\n",
       "      <td>28.633094</td>\n",
       "      <td>2636.504233</td>\n",
       "      <td>537.870553</td>\n",
       "      <td>1424.946949</td>\n",
       "      <td>499.433465</td>\n",
       "      <td>3.871162</td>\n",
       "      <td>206864.413155</td>\n",
       "      <td>0.213039</td>\n",
       "      <td>3.071533</td>\n",
       "      <td>5.431344</td>\n",
       "    </tr>\n",
       "    <tr>\n",
       "      <th>std</th>\n",
       "      <td>12.591805</td>\n",
       "      <td>2185.269567</td>\n",
       "      <td>421.385070</td>\n",
       "      <td>1133.208490</td>\n",
       "      <td>382.299226</td>\n",
       "      <td>1.899291</td>\n",
       "      <td>115435.667099</td>\n",
       "      <td>0.057983</td>\n",
       "      <td>10.438269</td>\n",
       "      <td>2.482946</td>\n",
       "    </tr>\n",
       "    <tr>\n",
       "      <th>min</th>\n",
       "      <td>1.000000</td>\n",
       "      <td>2.000000</td>\n",
       "      <td>1.000000</td>\n",
       "      <td>3.000000</td>\n",
       "      <td>1.000000</td>\n",
       "      <td>0.499900</td>\n",
       "      <td>14999.000000</td>\n",
       "      <td>0.100000</td>\n",
       "      <td>0.692308</td>\n",
       "      <td>0.846154</td>\n",
       "    </tr>\n",
       "    <tr>\n",
       "      <th>25%</th>\n",
       "      <td>18.000000</td>\n",
       "      <td>1450.000000</td>\n",
       "      <td>296.000000</td>\n",
       "      <td>787.000000</td>\n",
       "      <td>280.000000</td>\n",
       "      <td>2.563700</td>\n",
       "      <td>119500.000000</td>\n",
       "      <td>0.175427</td>\n",
       "      <td>2.429032</td>\n",
       "      <td>4.441441</td>\n",
       "    </tr>\n",
       "    <tr>\n",
       "      <th>50%</th>\n",
       "      <td>29.000000</td>\n",
       "      <td>2127.000000</td>\n",
       "      <td>435.000000</td>\n",
       "      <td>1166.000000</td>\n",
       "      <td>409.000000</td>\n",
       "      <td>3.536500</td>\n",
       "      <td>179700.000000</td>\n",
       "      <td>0.203162</td>\n",
       "      <td>2.817582</td>\n",
       "      <td>5.230769</td>\n",
       "    </tr>\n",
       "    <tr>\n",
       "      <th>75%</th>\n",
       "      <td>37.000000</td>\n",
       "      <td>3143.000000</td>\n",
       "      <td>647.000000</td>\n",
       "      <td>1722.000000</td>\n",
       "      <td>604.000000</td>\n",
       "      <td>4.744000</td>\n",
       "      <td>264700.000000</td>\n",
       "      <td>0.239821</td>\n",
       "      <td>3.281513</td>\n",
       "      <td>6.052381</td>\n",
       "    </tr>\n",
       "    <tr>\n",
       "      <th>max</th>\n",
       "      <td>52.000000</td>\n",
       "      <td>39320.000000</td>\n",
       "      <td>6445.000000</td>\n",
       "      <td>35682.000000</td>\n",
       "      <td>6082.000000</td>\n",
       "      <td>15.000100</td>\n",
       "      <td>500001.000000</td>\n",
       "      <td>1.000000</td>\n",
       "      <td>1243.333333</td>\n",
       "      <td>141.909091</td>\n",
       "    </tr>\n",
       "  </tbody>\n",
       "</table>\n",
       "</div>"
      ],
      "text/plain": [
       "       housing_median_age   total_rooms  total_bedrooms    population  \\\n",
       "count        20433.000000  20433.000000    20433.000000  20433.000000   \n",
       "mean            28.633094   2636.504233      537.870553   1424.946949   \n",
       "std             12.591805   2185.269567      421.385070   1133.208490   \n",
       "min              1.000000      2.000000        1.000000      3.000000   \n",
       "25%             18.000000   1450.000000      296.000000    787.000000   \n",
       "50%             29.000000   2127.000000      435.000000   1166.000000   \n",
       "75%             37.000000   3143.000000      647.000000   1722.000000   \n",
       "max             52.000000  39320.000000     6445.000000  35682.000000   \n",
       "\n",
       "         households  median_income  median_house_value  bedrooms_per_room  \\\n",
       "count  20433.000000   20433.000000        20433.000000       20433.000000   \n",
       "mean     499.433465       3.871162       206864.413155           0.213039   \n",
       "std      382.299226       1.899291       115435.667099           0.057983   \n",
       "min        1.000000       0.499900        14999.000000           0.100000   \n",
       "25%      280.000000       2.563700       119500.000000           0.175427   \n",
       "50%      409.000000       3.536500       179700.000000           0.203162   \n",
       "75%      604.000000       4.744000       264700.000000           0.239821   \n",
       "max     6082.000000      15.000100       500001.000000           1.000000   \n",
       "\n",
       "       population_per_household  rooms_per_household  \n",
       "count              20433.000000         20433.000000  \n",
       "mean                   3.071533             5.431344  \n",
       "std                   10.438269             2.482946  \n",
       "min                    0.692308             0.846154  \n",
       "25%                    2.429032             4.441441  \n",
       "50%                    2.817582             5.230769  \n",
       "75%                    3.281513             6.052381  \n",
       "max                 1243.333333           141.909091  "
      ]
     },
     "execution_count": 13,
     "metadata": {},
     "output_type": "execute_result"
    }
   ],
   "source": [
    "\n",
    "df[\"bedrooms_per_room\"] = df[\"total_bedrooms\"]/df[\"total_rooms\"]\n",
    "\n",
    "df[\"population_per_household\"] = df[\"population\"]/df[\"households\"]\n",
    "df[\"rooms_per_household\"] = df[\"total_rooms\"]/df[\"households\"]\n",
    "\n",
    "df.describe()\n"
   ]
  },
  {
   "cell_type": "code",
   "execution_count": 14,
   "id": "ready-refund",
   "metadata": {},
   "outputs": [
    {
     "data": {
      "text/plain": [
       "\"std_median_age = 11.391614\\nmean_median_age = 26.905830\\nust_median_age = mean_median_age + (std_median_age*2)\\nalt_median_age = mean_median_age - (std_median_age*2)\\n\\nstd_house_value = 94484.699327\\nmean_house_value = 188695.132724\\nust_house_value = mean_house_value + (std_house_value*2)\\nalt_house_value = mean_house_value - (std_house_value*2)\\n\\ndf.drop(df[df['housing_median_age'] > ust_median_age].index, inplace = True)\\ndf.drop(df[df['housing_median_age'] < alt_median_age].index, inplace = True)\\n\\ndf.drop(df[df['median_house_value'] > ust_house_value].index, inplace = True)\\ndf.drop(df[df['median_house_value'] < alt_house_value].index, inplace = True)\\n\\nstd_bedrooms_per_room = 0.057983\\nmean_bedrooms_per_room = 0.213039\\nust_bedrooms_per_room = mean_bedrooms_per_room + (std_bedrooms_per_room*2)\\nalt_bedrooms_per_room = mean_bedrooms_per_room - (std_bedrooms_per_room*2)\\n\\ndf.drop(df[df['bedrooms_per_room'] > ust_bedrooms_per_room].index, inplace = True)\\ndf.drop(df[df['bedrooms_per_room'] < alt_bedrooms_per_room].index, inplace = True)\\n\\nstd_population_per_household = 10.438269\\nmean_population_per_household = 3.071533\\nust_population_per_household = mean_population_per_household + (std_population_per_household*2)\\nalt_population_per_household = mean_population_per_household - (std_population_per_household*2)\\n\\ndf.drop(df[df['population_per_household'] > ust_population_per_household].index, inplace = True)\\ndf.drop(df[df['population_per_household'] < alt_population_per_household].index, inplace = True)\\n\\nstd_rooms_per_household = 5.431344\\nmean_rooms_per_household = 0.213039\\nust_rooms_per_household = mean_rooms_per_household + (std_rooms_per_household*2)\\nalt_rooms_per_household = mean_rooms_per_household - (std_rooms_per_household*2)\\n\\ndf.drop(df[df['rooms_per_household'] > ust_rooms_per_household].index, inplace = True)\\ndf.drop(df[df['rooms_per_household'] < alt_rooms_per_household].index, inplace = True)\""
      ]
     },
     "execution_count": 14,
     "metadata": {},
     "output_type": "execute_result"
    }
   ],
   "source": [
    "'''std_median_age = 11.391614\n",
    "mean_median_age = 26.905830\n",
    "ust_median_age = mean_median_age + (std_median_age*2)\n",
    "alt_median_age = mean_median_age - (std_median_age*2)\n",
    "\n",
    "std_house_value = 94484.699327\n",
    "mean_house_value = 188695.132724\n",
    "ust_house_value = mean_house_value + (std_house_value*2)\n",
    "alt_house_value = mean_house_value - (std_house_value*2)\n",
    "\n",
    "df.drop(df[df['housing_median_age'] > ust_median_age].index, inplace = True)\n",
    "df.drop(df[df['housing_median_age'] < alt_median_age].index, inplace = True)\n",
    "\n",
    "df.drop(df[df['median_house_value'] > ust_house_value].index, inplace = True)\n",
    "df.drop(df[df['median_house_value'] < alt_house_value].index, inplace = True)\n",
    "\n",
    "std_bedrooms_per_room = 0.057983\n",
    "mean_bedrooms_per_room = 0.213039\n",
    "ust_bedrooms_per_room = mean_bedrooms_per_room + (std_bedrooms_per_room*2)\n",
    "alt_bedrooms_per_room = mean_bedrooms_per_room - (std_bedrooms_per_room*2)\n",
    "\n",
    "df.drop(df[df['bedrooms_per_room'] > ust_bedrooms_per_room].index, inplace = True)\n",
    "df.drop(df[df['bedrooms_per_room'] < alt_bedrooms_per_room].index, inplace = True)\n",
    "\n",
    "std_population_per_household = 10.438269\n",
    "mean_population_per_household = 3.071533\n",
    "ust_population_per_household = mean_population_per_household + (std_population_per_household*2)\n",
    "alt_population_per_household = mean_population_per_household - (std_population_per_household*2)\n",
    "\n",
    "df.drop(df[df['population_per_household'] > ust_population_per_household].index, inplace = True)\n",
    "df.drop(df[df['population_per_household'] < alt_population_per_household].index, inplace = True)\n",
    "\n",
    "std_rooms_per_household = 5.431344\n",
    "mean_rooms_per_household = 0.213039\n",
    "ust_rooms_per_household = mean_rooms_per_household + (std_rooms_per_household*2)\n",
    "alt_rooms_per_household = mean_rooms_per_household - (std_rooms_per_household*2)\n",
    "\n",
    "df.drop(df[df['rooms_per_household'] > ust_rooms_per_household].index, inplace = True)\n",
    "df.drop(df[df['rooms_per_household'] < alt_rooms_per_household].index, inplace = True)'''"
   ]
  },
  {
   "cell_type": "code",
   "execution_count": 15,
   "id": "proved-bumper",
   "metadata": {},
   "outputs": [],
   "source": [
    "df.drop(df[df['housing_median_age'] > 50].index, inplace = True)\n",
    "\n",
    "df.drop(df[df['median_house_value'] > 490000].index, inplace = True)"
   ]
  },
  {
   "cell_type": "code",
   "execution_count": 26,
   "id": "portable-angola",
   "metadata": {},
   "outputs": [
    {
     "name": "stdout",
     "output_type": "stream",
     "text": [
      "<class 'pandas.core.frame.DataFrame'>\n",
      "Int64Index: 18286 entries, 0 to 20639\n",
      "Data columns (total 5 columns):\n",
      " #   Column                    Non-Null Count  Dtype  \n",
      "---  ------                    --------------  -----  \n",
      " 0   housing_median_age        18286 non-null  float64\n",
      " 1   median_income             18286 non-null  float64\n",
      " 2   bedrooms_per_room         18286 non-null  float64\n",
      " 3   population_per_household  18286 non-null  float64\n",
      " 4   rooms_per_household       18286 non-null  float64\n",
      "dtypes: float64(5)\n",
      "memory usage: 857.2 KB\n"
     ]
    }
   ],
   "source": [
    "X = df.drop(['median_house_value','total_bedrooms','total_rooms','population','households'],axis=1)\n",
    "\n",
    "y = df['median_house_value']\n",
    "X.info()\n",
    "#X.describe()\n"
   ]
  },
  {
   "cell_type": "code",
   "execution_count": 30,
   "id": "ready-blackberry",
   "metadata": {},
   "outputs": [],
   "source": [
    "#X.to_csv (r'C:\\Users\\rumeysa.yilmaz\\Documents\\GitHub\\CaliforniaHousing\\SonHousing.csv', index = False, header=False)\n"
   ]
  },
  {
   "cell_type": "code",
   "execution_count": 28,
   "id": "informed-friendship",
   "metadata": {},
   "outputs": [
    {
     "data": {
      "image/png": "[encoded data removed]",
      "text/plain": [
       "<Figure size 1440x1080 with 6 Axes>"
      ]
     },
     "metadata": {
      "needs_background": "light"
     },
     "output_type": "display_data"
    }
   ],
   "source": [
    "X.hist(bins=50, figsize=(20, 15))\n",
    "plt.show()"
   ]
  },
  {
   "cell_type": "code",
   "execution_count": null,
   "id": "simplified-decimal",
   "metadata": {},
   "outputs": [],
   "source": [
    "#Scaling and Train Test Split\n",
    "\n",
    "X_train, X_test, y_train, y_test = train_test_split(X,y,test_size=0.3,random_state=42)"
   ]
  },
  {
   "cell_type": "code",
   "execution_count": null,
   "id": "quiet-manor",
   "metadata": {},
   "outputs": [],
   "source": [
    "#Scaling\n",
    "scaler = MinMaxScaler()\n",
    "X_train= scaler.fit_transform(X_train)\n",
    "X_test = scaler.transform(X_test)\n"
   ]
  },
  {
   "cell_type": "code",
   "execution_count": null,
   "id": "satisfied-gasoline",
   "metadata": {},
   "outputs": [],
   "source": [
    "#Creating a Model\n",
    "model = Sequential()\n",
    "model.add(Dense(5,activation='relu'))\n",
    "model.add(Dropout(0.5))\n",
    "model.add(Dense(4,activation='relu'))\n",
    "model.add(Dropout(0.5))\n",
    "model.add(Dense(3,activation='relu'))\n",
    "model.add(Dropout(0.5))\n",
    "\n",
    "model.add(Dense(1))\n",
    "model.compile(optimizer='adam', loss='mse')"
   ]
  },
  {
   "cell_type": "code",
   "execution_count": null,
   "id": "transsexual-simon",
   "metadata": {},
   "outputs": [],
   "source": [
    "#Training the Model\n",
    "#early_stop = EarlyStopping(monitor='val_loss', mode='min', verbose=1, patience=10)\n",
    "model.fit(x=X_train,y=y_train.values,\n",
    "          validation_data=(X_test,y_test.values),\n",
    "          batch_size=128,epochs=300)"
   ]
  },
  {
   "cell_type": "code",
   "execution_count": null,
   "id": "sized-scale",
   "metadata": {},
   "outputs": [],
   "source": [
    "#loss, eğitim kümesi üzerinden hesaplanır\n",
    "#Train veri seti üzerinde doğru model seçimi yapılarak algoritma belirlenir. \n",
    "#val-loss validation kümesi üzerinden hesaplanır.\n",
    "#Validation bölümünde ise uygulanan model iyileştirilmeye çalışılır. \n",
    "#Bunun için hiper parametrik (hyperparameter tuning) uygulamalar denenerek en optimum katsayılar/ağırlıklar bulunmaya çalışılır.\n",
    "losses = pd.DataFrame(model.history.history)\n",
    "losses.plot()"
   ]
  },
  {
   "cell_type": "code",
   "execution_count": null,
   "id": "atmospheric-contractor",
   "metadata": {},
   "outputs": [],
   "source": [
    "predictions = model.predict(X_test)\n",
    "\n",
    "mape = tf.keras.losses.MeanAbsolutePercentageError()\n",
    "mape(y_test, predictions).numpy()"
   ]
  },
  {
   "cell_type": "code",
   "execution_count": null,
   "id": "fourth-magic",
   "metadata": {},
   "outputs": [],
   "source": [
    "from sklearn.metrics import mean_squared_error,mean_absolute_error\n",
    "mean_absolute_error(y_test,predictions)"
   ]
  },
  {
   "cell_type": "code",
   "execution_count": null,
   "id": "found-party",
   "metadata": {},
   "outputs": [],
   "source": [
    "np.sqrt(mean_squared_error(y_test,predictions))"
   ]
  },
  {
   "cell_type": "code",
   "execution_count": null,
   "id": "afraid-longitude",
   "metadata": {},
   "outputs": [],
   "source": []
  },
  {
   "cell_type": "code",
   "execution_count": null,
   "id": "measured-iceland",
   "metadata": {},
   "outputs": [],
   "source": []
  },
  {
   "cell_type": "code",
   "execution_count": null,
   "id": "informal-creature",
   "metadata": {},
   "outputs": [],
   "source": []
  }
 ],
 "metadata": {
  "kernelspec": {
   "display_name": "Python 3",
   "language": "python",
   "name": "python3"
  },
  "language_info": {
   "codemirror_mode": {
    "name": "ipython",
    "version": 3
   },
   "file_extension": ".py",
   "mimetype": "text/x-python",
   "name": "python",
   "nbconvert_exporter": "python",
   "pygments_lexer": "ipython3",
   "version": "3.8.5"
  }
 },
 "nbformat": 4,
 "nbformat_minor": 5
}
